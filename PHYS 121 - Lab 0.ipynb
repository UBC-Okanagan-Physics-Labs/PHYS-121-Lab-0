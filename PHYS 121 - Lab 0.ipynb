{
 "cells": [
  {
   "cell_type": "markdown",
   "id": "fe3cb7ee-ee0b-4d88-8763-ed3474facdc4",
   "metadata": {
    "deletable": false,
    "editable": false,
    "tags": []
   },
   "source": [
    "# <div style=\"background-color:rgba(204, 229, 255, 0.5); text-align:center; vertical-align: middle; padding:40px 0; margin-top:30px\"><span style=\"color:rgba(0, 76, 153, 1);\">**PHYS 121 Lab #0**<span style=\"color:red\"> $\\to$ (15 possible marks)</span> </span></div> \n",
    "\n",
    "<p>\n",
    "<center>\n",
    "<img src=\"https://raw.githubusercontent.com/UBC-Okanagan-Physics-Labs/PHYS-121-images/main/Lab-0/gifs/PHYS121.gif\" alt=\"image info\" style=\"width: 85%; height: auto;\" />\n",
    "</center>\n",
    "</p>\n",
    "\n",
    "<font size =\"4\"><span style=\"color:purple\">We recommend that you complete this notebook using either the [Google Chrome](https://www.google.com/intl/en_ca/chrome/) or [Mozilla Firefox](https://www.mozilla.org/en-CA/firefox/new/) browser.  Chrome and Firefox are both available for Windows, Mac, and Linux operating systems.  The PHYS 121 Jupyter notebooks should work in other browsers, but we have specifically verfied that they work well in both Chrome and Firefox.</span></font>"
   ]
  },
  {
   "cell_type": "markdown",
   "id": "df6f1098",
   "metadata": {
    "deletable": false,
    "editable": false,
    "tags": []
   },
   "source": [
    "***\n",
    "## Lab Learning Outcomes:\n",
    "By the end of the PHYS 121 lab, the successful student will be able to:\n",
    "* <b><span style=\"color:rgba(0, 153, 76, 1);\">Take familiar concepts and techniques used to solve a problem in one field physics and use them to gain insights about problems from other, seemingly unrelated, fields of physics.</span></b>\n",
    "* <b><span style=\"color:rgba(0, 153, 76, 1);\">Use basic/inexpensive equipment to conduct careful physics experiments that produce meaningful results that uncover something about the behaviour of nature.</span></b>\n",
    "* <b><span style=\"color:rgba(0, 153, 76, 1);\">Revise and repeat experiments using improved measurement techniques to collect precision data that uncovers new insights about the physical system being studied.</span></b>\n",
    "* <b><span style=\"color:rgba(0, 153, 76, 1);\">Use Python and Jupyter Notebooks to analyze the experimental data that you collect.</span></b>\n",
    "\n",
    "## Lab Manuals:\n",
    "The PHYS 121 lab manuals have been created using interactive **Jupyter Notebooks** (https://en.wikipedia.org/wiki/Project_Jupyter).  These notebooks, which have an **.ipynb** extension, allow one to enter, analyze/process, and display experimental data.  You will be provided with links that will open the electronic notebook/lab manual.  You will enter your data and do your analysis within these notebooks.  At the end of each lab, you will upload a **.zip** file to the PHYS 121 Lab Canvas page.  The .zip file will be generated for you, and it will contain the .ipynb file that you filled in with your data and anaylsis and a pdf file with some of the results from your analysis. \n",
    "\n",
    "Jupter notebooks have \"cells\" that are used to enter text, do calculations, and/or analyze data.  To execute a Juyter cell, place your cursor within the cell and then hit SHIFT + ENTER (hold down SHIFT and then press ENTER).  Each cell can contain more than one line of text/code.  To start a new line, simply hit ENTER (without holding down the SHIFT key).\n",
    "\n",
    "The Jupyter Notebooks that we will use in PHYS 121 will execute code written in the Python programming language (https://en.wikipedia.org/wiki/Python_(programming_language)).  You do **NOT** need to know Python or have any programming experience to successfully complete the PHYS 121 labs.  We will provide you with the code needed to complete the lab exercises.  Comments can be entered into a code cell by preceeding the comment with '#'.  Any text following the comment tag will not be executed as code when the user hits SHIFT + ENTER."
   ]
  },
  {
   "cell_type": "markdown",
   "id": "245cc53a",
   "metadata": {
    "deletable": false,
    "editable": false,
    "tags": []
   },
   "source": [
    "# <div style=\"background-color:rgba(255, 204, 255, 0.5); text-align:center; vertical-align: middle; padding:40px 0; margin-top:30px\"><span style=\"color:rgba(102, 0, 204, 1);\">Part 1 - Installing & Importing Packages (10 minutes)</span></div>\n",
    "\n",
    "## The 'PHYS121.Installer()' Function:\n",
    "\n",
    "**Part 1** of this introductory lab is used to install and import some packages that we will use throughout PHYS 121.  The installation will be done by calling a function called 'Installer()' which is contained within the file 'PHYS121.py'.  In order to use 'PHYS121.py', the file must be located in the same directory as the active Jupyter notebook (i.e. the .ipynb file) and then it must be imported into the notebook.  The 'PHYS121.py' file should already be among the files listed in the frame along the left-hand side of the screen.  The file can be imported using the following syntax:\n",
    "```python\n",
    "import PHYS121\n",
    "```\n",
    "The 'Installer()' function can then be called using:\n",
    "```python\n",
    "PHYS121.Installer()\n",
    "```\n",
    "These two line of code have already been entered into the cell below.  \n",
    "\n",
    "'PHYS121.Installer()' checks to see if some required Python packages/modules are already installed.  If they are, then the function outputs a message saying that its okay to proceed.  If one or more of the packages are missing, the function attempts to install them and then outputs a message that says the user should exectute the PHYS121.Installer() cell a second time.  The second time the installer function is run, it should simply confirm that the required packages are already installed.  \n",
    "\n",
    "If necessary, the user can \"restart the kernel\" start with a fresh notebook in which no cells have been executed.  To restart the kernel, select **Kernel** $\\to$ **Restart Kernel** from the menu options at to the top of the page.  Here is a <a href = \"https://raw.githubusercontent.com/UBC-Okanagan-Physics-Labs/PHYS-121-images/main/general/gifs/restartKernel.gif\">GIF</a> showing how to restart the kernel."
   ]
  },
  {
   "cell_type": "markdown",
   "id": "10e9b510",
   "metadata": {
    "deletable": false,
    "editable": false,
    "tags": []
   },
   "source": [
    "Run 'PHYS121.Installer()' by placing you're cursor inside the code cell below and then hitting 'Shift'+'Enter'."
   ]
  },
  {
   "cell_type": "code",
   "execution_count": null,
   "id": "454d11f5",
   "metadata": {
    "deletable": false,
    "editable": false,
    "tags": []
   },
   "outputs": [],
   "source": [
    "# Hide unnecessary warnings.\n",
    "import warnings\n",
    "warnings.filterwarnings('ignore')\n",
    "\n",
    "# Import PHYS121.py and then run the installer function.\n",
    "import PHYS121\n",
    "PHYS121.Installer()"
   ]
  },
  {
   "cell_type": "markdown",
   "id": "028ec162",
   "metadata": {
    "deletable": false,
    "editable": false,
    "tags": []
   },
   "source": [
    "## Importing Packages/Modules:\n",
    "\n",
    "Once the packages are installed, they can be imported using the notation:\n",
    "```python\n",
    "import packageName\n",
    "```\n",
    "where 'packageName' is the name of the package to be imported.  In the cell below, we import some of the packages that were installed by 'PHYS121.Installer()' and others that are preinstalled within UBC's Open Jupyter.\n",
    "\n",
    "Execute the import statements below by placing your cursor within the code cell and hitting 'Shift' + 'Enter'."
   ]
  },
  {
   "cell_type": "code",
   "execution_count": null,
   "id": "46f579b1",
   "metadata": {
    "deletable": false,
    "editable": false,
    "tags": []
   },
   "outputs": [],
   "source": [
    "# Import required and commonly-used modules\n",
    "import numpy as np\n",
    "import matplotlib.pyplot as plt\n",
    "import uncertainties\n",
    "import sys"
   ]
  },
  {
   "cell_type": "markdown",
   "id": "91ece658",
   "metadata": {
    "deletable": false,
    "editable": false,
    "tags": []
   },
   "source": [
    "# <div style=\"background-color:rgba(255, 204, 255, 0.5); text-align:center; vertical-align: middle; padding:40px 0; margin-top:30px\"><span style=\"color:rgba(102, 0, 204, 1);\">Part 2 - Auto-Grading (5 minutes)</span></div>\n",
    "\n",
    "The PHYS 121 Pre-Lab Assignments and Lab Notebooks will make use of both auto-graded questions and manually-graded questions.  In order to facilitate the auto-grading and generate the files for manual grading, the 'otter' package has to be imported and then initiallized using the commands:\n",
    "```python\n",
    "import otter\n",
    "grader = otter.Notebook(\"PHYS 121 - Lab 0.ipynb\")\n",
    "```\n",
    "Execute the cell below (SHIFT + ENTER) to import and initialize the auot-grading. "
   ]
  },
  {
   "cell_type": "code",
   "execution_count": null,
   "id": "43e6053d-c1b6-4656-9fc4-ea4eded2d373",
   "metadata": {
    "deletable": false,
    "editable": false,
    "tags": []
   },
   "outputs": [],
   "source": [
    "# Import Otter for the purposes of autograding\n",
    "import otter\n",
    "\n",
    "# Initialize Otter (for the purposes of auto-grading some cells)\n",
    "grader = otter.Notebook(\"PHYS 121 - Lab 0.ipynb\")"
   ]
  },
  {
   "cell_type": "code",
   "execution_count": null,
   "id": "88aeab7b",
   "metadata": {
    "deletable": false,
    "editable": false,
    "tags": []
   },
   "outputs": [],
   "source": [
    "PHYS121.graderCheck(['PHYS121' in sys.modules, 'otter' in sys.modules, 'numpy' in sys.modules], ['PHYS121', 'otter', 'numpy'], grader.check('q0.1'))"
   ]
  },
  {
   "cell_type": "markdown",
   "id": "f106a18c-b684-4907-b478-9aa8ab5f46ec",
   "metadata": {
    "deletable": false,
    "editable": false,
    "tags": []
   },
   "source": [
    "# <div style=\"background-color:rgba(255, 204, 255, 0.5); text-align:center; vertical-align: middle; padding:40px 0; margin-top:30px\"><span style=\"color:rgba(102, 0, 204, 1);\">Part 3 - Lab Logistics (10 minutes)</span></div>  \n",
    "\n",
    "In the PHYS 121 lab, most of you will be working with a partner.  **If you are working with a partner, you only need to upload a single copy of the zip file to Canvas when submitting your work.**  The zip file can be uploaded to either your Canvas shell or your partner's Canvas shell.  Once the submission has been graded, the same mark will be entered for both you and your partner.  Note that you need to complete the **pre-lab assignments independently**.  The pre-labs will also be completed using Jupyter notebooks.  For the pre-labs, every student in the PHYS 121 lab must upload their own zip file to Canvas.\n",
    "\n",
    "To ensure that both you and your partner receive credit for you lab work, both your name and student number and your partner's name and student number need to appear in the notebooks used during the labs.  In the cells below this text, enter your name and student number and your partner's name and student number.\n",
    "\n",
    "After your names and student numbers have been entered, execute the cell containing\n",
    "```python\n",
    "PHYS121.graderCheck(...)\n",
    "```\n",
    "\n",
    "This fucntion is part of the auto-grader and is desiged to check for errors in the data that you entered.  For example, the student number should be a string (enclosed in single or double quotes) of exactly 8 characters and all of the characters have to be integers.  If the data that you entered is okay, you should get a message indicating that all of the checks have passed.  If anything fails, you should search for the **message** in the output and use it to fix the error(s) in the values that you entered.\n",
    "\n",
    "Examples of valid entries are:\n",
    "```python\n",
    "last_name_1 = 'Doe'\n",
    "first_name_1 = 'Jane'\n",
    "student_number_1 = '12345678'\n",
    "```\n",
    "and\n",
    "```python\n",
    "last_name_1 = \"Doe\"\n",
    "first_name_1 = \"John\"\n",
    "student_number_1 = \"12345678\"\n",
    "```"
   ]
  },
  {
   "cell_type": "markdown",
   "id": "5cb0fae1-e4e8-4f51-bfe5-2c8d025b39d0",
   "metadata": {
    "deletable": false,
    "editable": false,
    "tags": []
   },
   "source": [
    "<!-- BEGIN QUESTION -->\n",
    "\n",
    "***\n",
    "### **<span style=\"color:blue\">Partner #1</span>** **<span style=\"color:red\">(0.5 marks)</span>** "
   ]
  },
  {
   "cell_type": "code",
   "execution_count": null,
   "id": "db711e2f-57d1-48ff-bf6e-27e46368086d",
   "metadata": {
    "tags": []
   },
   "outputs": [],
   "source": [
    "# Enter LAST name of partner 1.  Delete the ... below and type your entry between the single quotes.\n",
    "# Once you've completed your entry, press SHIFT + ENTER to execute the cell.\n",
    "# *** Please do not change anything to the left of the equals sign. ***\n",
    "last_name_1 = ..."
   ]
  },
  {
   "cell_type": "code",
   "execution_count": null,
   "id": "7bc48796-dbcb-4175-a7ad-3513a51a5903",
   "metadata": {
    "tags": []
   },
   "outputs": [],
   "source": [
    "# Enter FIRST name of partner 1.  Delete the ... below and type your entry between the single quotes.\n",
    "# Once you've completed your entry, press SHIFT + ENTER to execute the cell.\n",
    "# *** Please do not change anything to the left of the equals sign. ***\n",
    "first_name_1 = ..."
   ]
  },
  {
   "cell_type": "code",
   "execution_count": null,
   "id": "7c5c4cf7-17d1-4052-bacc-74026ecf43aa",
   "metadata": {
    "tags": []
   },
   "outputs": [],
   "source": [
    "# Enter STUDENT NUMBER of partner 1.  Delete the ... below and type your entry between the single quotes.\n",
    "# Once you've completed your entry, press SHIFT + ENTER to execute the cell.\n",
    "# *** Please do not change anything to the left of the equals sign. ***\n",
    "student_number_1 = ..."
   ]
  },
  {
   "cell_type": "markdown",
   "id": "4b019040-d26d-4e98-b6e6-d0eeb4d9fc54",
   "metadata": {
    "deletable": false,
    "editable": false,
    "tags": []
   },
   "source": [
    "***\n",
    "### **<span style=\"color:blue\">Partner #2</span>** **<span style=\"color:red\">(0.5 marks)</span>** \n",
    "If you are working on your own, leave all of last_name_2, first_name_2, and student_number_2 as ...  Please still exectute these cells and then run the 'grader.check(\"name_and_student_number_2\")' cell."
   ]
  },
  {
   "cell_type": "code",
   "execution_count": null,
   "id": "f8969b04-11a7-4e77-91f6-a152dc7ceaff",
   "metadata": {
    "tags": []
   },
   "outputs": [],
   "source": [
    "# Enter LAST name of partner 2.  Delete the ... below and type your entry between the single quotes.\n",
    "# Once you've completed your entry, press SHIFT + ENTER to execute the cell.\n",
    "# *** Please do not change anything to the left of the equals sign. ***\n",
    "last_name_2 = ..."
   ]
  },
  {
   "cell_type": "code",
   "execution_count": null,
   "id": "1be6d879-2cbb-4aea-a578-e21dff0e2522",
   "metadata": {
    "tags": []
   },
   "outputs": [],
   "source": [
    "# Enter FIRST name of partner 2.  Delete the ... below and type your entry between the single quotes.\n",
    "# Once you've completed your entry, press SHIFT + ENTER to execute the cell.\n",
    "# *** Please do not change anything to the left of the equals sign. ***\n",
    "first_name_2 = ..."
   ]
  },
  {
   "cell_type": "code",
   "execution_count": null,
   "id": "9059bb92-fc11-467f-b941-0daf5cdc269e",
   "metadata": {
    "tags": []
   },
   "outputs": [],
   "source": [
    "# Enter STUDENT NUMBER of partner 2.  Delete the ... below and type your entry between the single quotes.\n",
    "# Once you've completed your entry, press SHIFT + ENTER to execute the cell.\n",
    "# *** Please do not change anything to the left of the equals sign. ***\n",
    "student_number_2 = ..."
   ]
  },
  {
   "cell_type": "code",
   "execution_count": null,
   "id": "684fec04",
   "metadata": {
    "deletable": false,
    "editable": false,
    "tags": []
   },
   "outputs": [],
   "source": [
    "PHYS121.graderCheck([last_name_1, first_name_1, student_number_1, last_name_2, first_name_2, student_number_2], ['last_name_1', 'first_name_1', 'student_number_1', 'last_name_2', 'first_name_2', 'student_number_2'], grader.check('name_and_student_number'))"
   ]
  },
  {
   "cell_type": "markdown",
   "id": "e1f0c0d6",
   "metadata": {
    "deletable": false,
    "editable": false,
    "tags": []
   },
   "source": [
    "# <div style=\"background-color:rgba(255, 204, 255, 0.5); text-align:center; vertical-align: middle; padding:40px 0; margin-top:30px\"><span style=\"color:rgba(102, 0, 204, 1);\">Part 4 Quiz (45 minutes)</span></div>\n",
    "\n",
    "In order for you to get familiar with the Jupyter Notebook lab manuals and the PHYS 121 policies, you will complete the short quiz below.\n",
    "\n",
    "First, access the PHYS 121 Lab Canvas page.  Navigate the to \"Lab 0\" folder within the \"Modules\" section of Canvas and read the pdf documents there.  These documents contain the answers to most of the questions in the quiz.\n",
    "\n",
    "To enter a response to the quiz questions, replace the dots (...) with the your answer (keep the answer within the singe quotes ' ').  Text inside of single quotes (' ') or double quotes (\" \") are called strings.  The autograder expects your answers to be enter as strings."
   ]
  },
  {
   "cell_type": "markdown",
   "id": "9f88b801-2852-4d4d-ac71-9be69bb26b79",
   "metadata": {
    "deletable": false,
    "editable": false,
    "tags": []
   },
   "source": [
    "***\n",
    "**<span style=\"color:blue\">Question 4.1</span>** **<span style=\"color:red\">(1 mark)</span>**  \n",
    "What is a passing grade for the PHYS 121 lab?\n",
    "- (a) 35%\n",
    "- (b) 40%\n",
    "- (c) 50%\n",
    "- (d) 60%\n",
    "- (e) 65%"
   ]
  },
  {
   "cell_type": "markdown",
   "id": "0d6df2cd-debb-4f79-9218-640654841e2e",
   "metadata": {
    "deletable": false,
    "editable": false,
    "tags": []
   },
   "source": [
    "**<span style=\"color:blue\">Answer 4.1</span>**  \n",
    "Replace the ... in the cell below with your answer.  Your answer should be a single character (a, b, c, d, or e) between single or double quotes.  \n",
    "*** Please do not change anything to the left of the equals sign. ***"
   ]
  },
  {
   "cell_type": "code",
   "execution_count": null,
   "id": "1ccb8724",
   "metadata": {
    "tags": []
   },
   "outputs": [],
   "source": [
    "a4_1 = ..."
   ]
  },
  {
   "cell_type": "code",
   "execution_count": null,
   "id": "0cf33b03",
   "metadata": {
    "deletable": false,
    "editable": false,
    "tags": []
   },
   "outputs": [],
   "source": [
    "PHYS121.graderCheck([a4_1], ['a4_1'], grader.check('Q4.1'))"
   ]
  },
  {
   "cell_type": "markdown",
   "id": "25111087",
   "metadata": {
    "deletable": false,
    "editable": false,
    "tags": []
   },
   "source": [
    "***\n",
    "**<span style=\"color:blue\">Question 4.2</span>** **<span style=\"color:red\">(1 mark)</span>**  \n",
    "There are no exemptions for the PHYS 121 lab.\n",
    "- (a) True\n",
    "- (b) False"
   ]
  },
  {
   "cell_type": "markdown",
   "id": "c3bea65c-c6d7-4546-838a-d1d1ebce3760",
   "metadata": {
    "deletable": false,
    "editable": false,
    "tags": []
   },
   "source": [
    "**<span style=\"color:blue\">Answer 4.2</span>**  \n",
    "Replace the ... in the cell below with your answer.  Your answer should be a single character (a, b, t, or f) between single or double quotes.  \n",
    "*** Please do not change anything to the left of the equals sign. ***"
   ]
  },
  {
   "cell_type": "code",
   "execution_count": null,
   "id": "f5e8ca0f",
   "metadata": {
    "tags": []
   },
   "outputs": [],
   "source": [
    "a4_2 = ..."
   ]
  },
  {
   "cell_type": "code",
   "execution_count": null,
   "id": "d6774c74",
   "metadata": {
    "deletable": false,
    "editable": false,
    "tags": []
   },
   "outputs": [],
   "source": [
    "PHYS121.graderCheck([a4_2], ['a4_2'], grader.check('Q4.2'))"
   ]
  },
  {
   "cell_type": "markdown",
   "id": "5cfc3336",
   "metadata": {
    "deletable": false,
    "editable": false,
    "tags": []
   },
   "source": [
    "***\n",
    "**<span style=\"color:blue\">Question 4.3</span>** **<span style=\"color:red\">(1 mark)</span>**  \n",
    "I am not required to attend every lab in person.\n",
    "- (a) True\n",
    "- (b) False"
   ]
  },
  {
   "cell_type": "markdown",
   "id": "fff66e86-b37a-4179-b554-202c33ba39d9",
   "metadata": {
    "deletable": false,
    "editable": false,
    "tags": []
   },
   "source": [
    "**<span style=\"color:blue\">Answer 4.3</span>**  \n",
    "Replace the ... in the cell below with your answer.  Your answer should be a single character (a, b, t or f) between single or double quotes.  \n",
    "*** Please do not change anything to the left of the equals sign. ***"
   ]
  },
  {
   "cell_type": "code",
   "execution_count": null,
   "id": "30e35dca",
   "metadata": {
    "tags": []
   },
   "outputs": [],
   "source": [
    "a4_3 = ..."
   ]
  },
  {
   "cell_type": "code",
   "execution_count": null,
   "id": "dd39c15d",
   "metadata": {
    "deletable": false,
    "editable": false,
    "tags": []
   },
   "outputs": [],
   "source": [
    "PHYS121.graderCheck([a4_3], ['a4_3'], grader.check('Q4.3'))"
   ]
  },
  {
   "cell_type": "markdown",
   "id": "c117dfe5-a3d1-4de5-90ac-67bdb5ede06d",
   "metadata": {
    "deletable": false,
    "editable": false,
    "tags": []
   },
   "source": [
    "***\n",
    "**<span style=\"color:blue\">Question 4.4</span>** **<span style=\"color:red\">(1 mark)</span>**  \n",
    "What is the due date and time for this lab?\n",
    "- (a) 1 hour after the start of the lab.\n",
    "- (b) 3 hours after the start of the lab.\n",
    "- (c) 15 minutes after the end of the lab.\n",
    "- (d) 23:59 the day before the next lab starts.\n",
    "- (e) By the end of the term."
   ]
  },
  {
   "cell_type": "markdown",
   "id": "f7fbb6de-b70f-4e64-9bde-7caf33e7491f",
   "metadata": {
    "deletable": false,
    "editable": false,
    "tags": []
   },
   "source": [
    "**<span style=\"color:blue\">Answer 4.4</span>**  \n",
    "Replace the ... in the cell below with your answer.  Your answer should be a single character (a, b, c, d, or e) between single or double quotes.  \n",
    "*** Please do not change anything to the left of the equals sign. ***"
   ]
  },
  {
   "cell_type": "code",
   "execution_count": null,
   "id": "b08c98df",
   "metadata": {
    "tags": []
   },
   "outputs": [],
   "source": [
    "a4_4 = ..."
   ]
  },
  {
   "cell_type": "code",
   "execution_count": null,
   "id": "0d968d90",
   "metadata": {
    "deletable": false,
    "editable": false,
    "tags": []
   },
   "outputs": [],
   "source": [
    "PHYS121.graderCheck([a4_4], ['a4_4'], grader.check('Q4.4'))"
   ]
  },
  {
   "cell_type": "markdown",
   "id": "99c8c719-1da5-4edf-b896-b7e5b4448e0c",
   "metadata": {
    "deletable": false,
    "editable": false,
    "tags": []
   },
   "source": [
    "***\n",
    "**<span style=\"color:blue\">Question 4.5</span>** **<span style=\"color:red\">(1 mark)</span>**  \n",
    "To make special arrangements with your TA or the Physics Lab Team, I should:\n",
    "- (a) make the arrangements verbally.\n",
    "- (b) ask my friend.\n",
    "- (c) have my mom or dad contact the university.\n",
    "- (d) use the Qualtrics form ([Link to Form](https://ubc.ca1.qualtrics.com/jfe/form/SV_0Chb3nU7PcmPAGO)).\n",
    "- (e) Special arrangements are not needed.  I can just show up to another lab section."
   ]
  },
  {
   "cell_type": "markdown",
   "id": "1ec2a20e-3f1d-4cce-b5fe-70b7a6cc91bc",
   "metadata": {
    "deletable": false,
    "editable": false,
    "tags": []
   },
   "source": [
    "**<span style=\"color:blue\">Answer 4.5</span>**  \n",
    "Replace the ... in the cell below with your answer.  Your answer should be a single character (a, b, c, d, or e) between single or double quotes.  \n",
    "*** Please do not change anything to the left of the equals sign. ***"
   ]
  },
  {
   "cell_type": "code",
   "execution_count": null,
   "id": "9e1f0568",
   "metadata": {
    "tags": []
   },
   "outputs": [],
   "source": [
    "a4_5 = ..."
   ]
  },
  {
   "cell_type": "code",
   "execution_count": null,
   "id": "63fe71ef",
   "metadata": {
    "deletable": false,
    "editable": false,
    "tags": []
   },
   "outputs": [],
   "source": [
    "PHYS121.graderCheck([a4_5], ['a4_5'], grader.check('Q4.5'))"
   ]
  },
  {
   "cell_type": "markdown",
   "id": "c9b409ed",
   "metadata": {
    "deletable": false,
    "editable": false,
    "tags": []
   },
   "source": [
    "***\n",
    "**<span style=\"color:blue\">Question 4.6</span>** **<span style=\"color:red\">(1 mark)</span>**  \n",
    "For each calendar day that a lab is submitted late, there is late penalty deduction of:\n",
    "- (a) 0%\n",
    "- (b) 10%\n",
    "- (c) 15%\n",
    "- (d) 20%\n",
    "- (e) 25%"
   ]
  },
  {
   "cell_type": "markdown",
   "id": "14acdff8-cbdc-4102-a3b5-c68e1c0b6ca1",
   "metadata": {
    "deletable": false,
    "editable": false,
    "tags": []
   },
   "source": [
    "**<span style=\"color:blue\">Answer 4.6</span>**  \n",
    "Replace the ... in the cell below with your answer.  Your answer should be a single character (a, b, c, d, or e) between single or double quotes.  \n",
    "*** Please do not change anything to the left of the equals sign. ***"
   ]
  },
  {
   "cell_type": "code",
   "execution_count": null,
   "id": "98559a07",
   "metadata": {
    "tags": []
   },
   "outputs": [],
   "source": [
    "a4_6 = ..."
   ]
  },
  {
   "cell_type": "code",
   "execution_count": null,
   "id": "aee76d74",
   "metadata": {
    "deletable": false,
    "editable": false,
    "tags": []
   },
   "outputs": [],
   "source": [
    "PHYS121.graderCheck([a4_6], ['a4_6'], grader.check('Q4.6'))"
   ]
  },
  {
   "cell_type": "markdown",
   "id": "15299e5a-544d-4d5a-9345-4609d7575c00",
   "metadata": {
    "deletable": false,
    "editable": false,
    "tags": []
   },
   "source": [
    "***\n",
    "**<span style=\"color:blue\">Question 4.7</span>** **<span style=\"color:red\">(1 mark)</span>**  \n",
    "To be considered for a make-up lab, when you miss a lab you must declare your absence using the Qualtrics form ([Link to Form](https://ubc.ca1.qualtrics.com/jfe/form/SV_0Chb3nU7PcmPAGO)) within how many calendar days from the date of the lab that you missed?\n",
    "- (a) 1 day\n",
    "- (b) 2 days\n",
    "- (c) 3 days\n",
    "- (d) 4 days\n",
    "- (e) 5 days"
   ]
  },
  {
   "cell_type": "markdown",
   "id": "36eab040-c011-45e2-832e-bb76ce905280",
   "metadata": {
    "deletable": false,
    "editable": false,
    "tags": []
   },
   "source": [
    "**<span style=\"color:blue\">Answer 4.7</span>**  \n",
    "Replace the ... in the cell below with your answer.  Your answer should be a single character (a, b, c, d, or e) between single or double quotes.  \n",
    "*** Please do not change anything to the left of the equals sign. ***"
   ]
  },
  {
   "cell_type": "code",
   "execution_count": null,
   "id": "05352c11-7e94-4412-b887-59a2872f1118",
   "metadata": {
    "tags": []
   },
   "outputs": [],
   "source": [
    "a4_7 = ..."
   ]
  },
  {
   "cell_type": "code",
   "execution_count": null,
   "id": "0f132cc2",
   "metadata": {
    "deletable": false,
    "editable": false,
    "tags": []
   },
   "outputs": [],
   "source": [
    "PHYS121.graderCheck([a4_7], ['a4_7'], grader.check('Q4.7'))"
   ]
  },
  {
   "cell_type": "markdown",
   "id": "0118e1f8-8bae-4bf7-a550-feada6f5a73b",
   "metadata": {
    "deletable": false,
    "editable": false,
    "tags": []
   },
   "source": [
    "***\n",
    "**<span style=\"color:blue\">Question 4.8</span>** **<span style=\"color:red\">(1 mark)</span>**  \n",
    "An act of dishonesty (such as plagiarism) is not allowed. For this reason, it may result in a failing grade or mark of zero on the assignment or in the course. Cases of academic dishonesty will be reported to the Dean's office.\n",
    "- (a) True\n",
    "- (b) False"
   ]
  },
  {
   "cell_type": "markdown",
   "id": "1bcb7659-6af0-4fd2-98f6-c28d635947e0",
   "metadata": {
    "deletable": false,
    "editable": false,
    "tags": []
   },
   "source": [
    "**<span style=\"color:blue\">Answer 4.8</span>**  \n",
    "Replace the ... in the cell below with your answer.  Your answer should be a single character (a, b, t, or f) between single or double quotes.  \n",
    "*** Please do not change anything to the left of the equals sign. ***"
   ]
  },
  {
   "cell_type": "code",
   "execution_count": null,
   "id": "4d699c79-9da1-4a94-b9a6-affea99d9ae4",
   "metadata": {
    "tags": []
   },
   "outputs": [],
   "source": [
    "a4_8 = ..."
   ]
  },
  {
   "cell_type": "code",
   "execution_count": null,
   "id": "25b1a137",
   "metadata": {
    "deletable": false,
    "editable": false,
    "tags": []
   },
   "outputs": [],
   "source": [
    "PHYS121.graderCheck([a4_8], ['a4_8'], grader.check('Q4.8'))"
   ]
  },
  {
   "cell_type": "markdown",
   "id": "2b6ed904-a96a-4acb-bb86-4c344ff81780",
   "metadata": {
    "deletable": false,
    "editable": false,
    "tags": []
   },
   "source": [
    "***\n",
    "**<span style=\"color:blue\">Question 4.9</span>** **<span style=\"color:red\">(1 mark)</span>**  \n",
    "The due date for finalizing lab grades is April 7. You must talk to your TAs to discuss any issues related to the lab marks before this date. We will not discuss it after the finalizing date.\n",
    "- (a) True\n",
    "- (b) False"
   ]
  },
  {
   "cell_type": "markdown",
   "id": "b2000b33-d83b-4b35-9b06-d215ba27fc14",
   "metadata": {
    "deletable": false,
    "editable": false,
    "tags": []
   },
   "source": [
    "**<span style=\"color:blue\">Answer 4.9</span>**  \n",
    "Replace the ... in the cell below with your answer.  Your answer should be a single character (a, b, t, or f) between single or double quotes.  \n",
    "*** Please do not change anything to the left of the equals sign. ***"
   ]
  },
  {
   "cell_type": "code",
   "execution_count": null,
   "id": "88a6d240-88e3-4d33-9038-3dcb6d14c20d",
   "metadata": {
    "tags": []
   },
   "outputs": [],
   "source": [
    "a4_9 = ..."
   ]
  },
  {
   "cell_type": "code",
   "execution_count": null,
   "id": "183384eb",
   "metadata": {
    "deletable": false,
    "editable": false,
    "tags": []
   },
   "outputs": [],
   "source": [
    "PHYS121.graderCheck([a4_9], ['a4_9'], grader.check('Q4.9'))"
   ]
  },
  {
   "cell_type": "markdown",
   "id": "414bdc05-5990-402d-a3a4-4a2d1ee3f2f1",
   "metadata": {
    "deletable": false,
    "editable": false,
    "tags": []
   },
   "source": [
    "***\n",
    "**<span style=\"color:blue\">Question 4.10</span>** **<span style=\"color:red\">(1 mark)</span>**  \n",
    "I am able to make a special arrangement at the end of term so that I can submit assignments that I did not hand earlier in the term to increase my grade just enough to pass the lab component of PHYS 121.\n",
    "- (a) True\n",
    "- (b) False"
   ]
  },
  {
   "cell_type": "markdown",
   "id": "26da9d83-a208-4e65-b419-6b0ed8ddf197",
   "metadata": {
    "deletable": false,
    "editable": false,
    "tags": []
   },
   "source": [
    "**<span style=\"color:blue\">Answer 4.10</span>**  \n",
    "Replace the ... in the cell below with your answer.  Your answer should be a single character (a, b, t, or f) between single or double quotes.  \n",
    "*** Please do not change anything to the left of the equals sign. ***"
   ]
  },
  {
   "cell_type": "code",
   "execution_count": null,
   "id": "407dda47-2b1c-4eff-9be7-6a410866a2f8",
   "metadata": {
    "tags": []
   },
   "outputs": [],
   "source": [
    "a4_10 = ..."
   ]
  },
  {
   "cell_type": "code",
   "execution_count": null,
   "id": "0aea9562",
   "metadata": {
    "deletable": false,
    "editable": false,
    "tags": []
   },
   "outputs": [],
   "source": [
    "PHYS121.graderCheck([a4_10], ['a4_10'], grader.check('Q4.10'))"
   ]
  },
  {
   "cell_type": "markdown",
   "id": "9fc7ca38-095e-45cc-8a3c-7ad78e5878c4",
   "metadata": {
    "deletable": false,
    "editable": false,
    "tags": []
   },
   "source": [
    "<!-- BEGIN QUESTION -->\n",
    "\n",
    "***\n",
    "**<span style=\"color:blue\">Question 4.11</span>** **<span style=\"color:red\">(1 mark)</span>**  \n",
    "Enter the lab section that you are registered in."
   ]
  },
  {
   "cell_type": "markdown",
   "id": "bd15f908-15de-480d-95af-35470117860d",
   "metadata": {
    "deletable": false,
    "editable": false,
    "tags": []
   },
   "source": [
    "**<span style=\"color:blue\">Answer 4.11</span>**  \n",
    "Replace the ... in the cell below with your answer.  Your answer should be a string of 3 characters ('L04', for example).  \n",
    "*** Please do not change anything to the left of the equals sign. ***"
   ]
  },
  {
   "cell_type": "code",
   "execution_count": null,
   "id": "757b1fb2-04c8-4b72-9109-209e404bb7d7",
   "metadata": {
    "tags": []
   },
   "outputs": [],
   "source": [
    "a4_11 = ..."
   ]
  },
  {
   "cell_type": "code",
   "execution_count": null,
   "id": "15cebfdd",
   "metadata": {
    "deletable": false,
    "editable": false,
    "tags": []
   },
   "outputs": [],
   "source": [
    "PHYS121.graderCheck([a4_11], ['a4_11'], grader.check('Q4.11'))"
   ]
  },
  {
   "cell_type": "markdown",
   "id": "6cd454bf-24c2-4aa0-85f9-001ae6f85a6d",
   "metadata": {
    "deletable": false,
    "editable": false,
    "tags": []
   },
   "source": [
    "<!-- BEGIN QUESTION -->\n",
    "\n",
    "***\n",
    "**<span style=\"color:blue\">Question 4.12</span>** **<span style=\"color:red\">(1 mark)</span>**  \n",
    "Enter your TAs first and last name."
   ]
  },
  {
   "cell_type": "markdown",
   "id": "9d91f34d-ec1b-4f5b-9e9c-6617f990788c",
   "metadata": {
    "deletable": false,
    "editable": false,
    "tags": []
   },
   "source": [
    "**<span style=\"color:blue\">Answer 4.12</span>**  \n",
    "Replace the ... in the cell below with your answers.  Your answers should be strings (i.e. between single or double quotes).  \n",
    "*** Please do not change anything to the left of the equals signs. ***"
   ]
  },
  {
   "cell_type": "code",
   "execution_count": null,
   "id": "ed38d37f-ad0f-4c03-8b32-f503dbcb6e5e",
   "metadata": {
    "tags": []
   },
   "outputs": [],
   "source": [
    "TA_FIRST_name = ...\n",
    "TA_LAST_name = ..."
   ]
  },
  {
   "cell_type": "code",
   "execution_count": null,
   "id": "c6d27eb9",
   "metadata": {
    "deletable": false,
    "editable": false,
    "tags": []
   },
   "outputs": [],
   "source": [
    "PHYS121.graderCheck([TA_FIRST_name, TA_LAST_name], ['TA_FIRST_name', 'TA_LAST_name'], grader.check('Q4.12'))"
   ]
  },
  {
   "cell_type": "markdown",
   "id": "dfc49e1d-f2c4-4ac7-bd24-91c7342e4f0d",
   "metadata": {
    "deletable": false,
    "editable": false,
    "tags": []
   },
   "source": [
    "# <div style=\"background-color:rgba(255, 204, 255, 0.5); text-align:center; vertical-align: middle; padding:40px 0; margin-top:30px\"><span style=\"color:rgba(102, 0, 204, 1);\">Part 5 - Mathematical Operations in Python (30 minutes)</span></div>\n",
    "\n",
    "In Python, you can evaluate most basic mathematical operations in the way that you'd expect.  For example, try executing the cells below. "
   ]
  },
  {
   "cell_type": "code",
   "execution_count": null,
   "id": "6da865f1-c84e-4607-a430-d2d4567aa8da",
   "metadata": {},
   "outputs": [],
   "source": [
    "2 + 3"
   ]
  },
  {
   "cell_type": "code",
   "execution_count": null,
   "id": "8e38d220-ebd3-471b-9a12-ce9febf9979e",
   "metadata": {},
   "outputs": [],
   "source": [
    "2*3"
   ]
  },
  {
   "cell_type": "code",
   "execution_count": null,
   "id": "5d152305-3910-4666-bb0e-55ab10f134cf",
   "metadata": {},
   "outputs": [],
   "source": [
    "2/3"
   ]
  },
  {
   "cell_type": "markdown",
   "id": "273a7019-e06b-4262-971f-cbc49cb1d78b",
   "metadata": {
    "deletable": false,
    "editable": false,
    "tags": []
   },
   "source": [
    "In many programming languages (and on Texas Instruments graphing calculators), a number is raised to a power using the notation $x\\,\\hat{}\\,y$.  For example, $2\\,\\hat{}\\,3$ would imply $2^3 = 8$.  In Python, however, a number is raised to a power by repeating the multiplication symbol as in:\n",
    "```python\n",
    "x**y\n",
    "```\n",
    "Confirm this behaviour by executing the cell below."
   ]
  },
  {
   "cell_type": "code",
   "execution_count": null,
   "id": "dec0d64d-c280-440b-9297-9a5566ebcdee",
   "metadata": {},
   "outputs": [],
   "source": [
    "2**3"
   ]
  },
  {
   "cell_type": "markdown",
   "id": "aff9a29a-f6db-4ed3-a911-0347ced57491",
   "metadata": {
    "deletable": false,
    "editable": false,
    "tags": []
   },
   "source": [
    "Special functios such as $\\sin x$, $\\cos x$, $\\ln x$, $\\exp(x)$ and so on will also not work as expected.  These functions, however, are defined within very nice modules or packages that have been written and are available for us to use.  One package that we'll almost always want to use is called **NumPy** (https://en.wikipedia.org/wiki/NumPy).  The constant $\\pi$ is also defined within NumPy.  To use this package, we first need to import it.  NumPy is usually given the shorthand name 'np'.  To import the package and give it the name np, we need to execute the following line of code:\n",
    "```python\n",
    "import numpy as np\n",
    "```\n",
    "This has already been done in **Part 1** of this lab, so we don't need to repeat it here.  Execute the cells below to see how to use NumPy and special functions."
   ]
  },
  {
   "cell_type": "code",
   "execution_count": null,
   "id": "c3978b4b-21eb-4ab2-bf9a-258c04195cfe",
   "metadata": {},
   "outputs": [],
   "source": [
    "np.pi"
   ]
  },
  {
   "cell_type": "code",
   "execution_count": null,
   "id": "7612ebf9-79dc-4884-a9c8-4867c8dadc10",
   "metadata": {},
   "outputs": [],
   "source": [
    "np.cos(1)"
   ]
  },
  {
   "cell_type": "code",
   "execution_count": null,
   "id": "96c9c259-bfa9-410f-9259-dce92066b276",
   "metadata": {},
   "outputs": [],
   "source": [
    "# If we want, we can put a number of statements on a single line.\n",
    "np.sin(0), np.sin(1), np.sin(np.pi/2)"
   ]
  },
  {
   "cell_type": "code",
   "execution_count": null,
   "id": "0703d62f-0f30-44b7-a075-e028de7793be",
   "metadata": {},
   "outputs": [],
   "source": [
    "np.exp(1)"
   ]
  },
  {
   "cell_type": "markdown",
   "id": "bb12d1b0-7d09-4242-bbbe-d1cf18207f3b",
   "metadata": {
    "deletable": false,
    "editable": false,
    "tags": []
   },
   "source": [
    "Note that the in Python, and other programming languages as well, $\\log x$ is used to denote the *natural logarithm* of $x$ or $\\ln x$.  For example, executing the cell below should result in and answer of $2$."
   ]
  },
  {
   "cell_type": "code",
   "execution_count": null,
   "id": "dc0e94b4-ff1e-4287-a01d-ef1153b0e9c5",
   "metadata": {},
   "outputs": [],
   "source": [
    "np.log( np.exp(2) )"
   ]
  },
  {
   "cell_type": "markdown",
   "id": "b6b1178d-d547-4847-b127-53bff06c44bc",
   "metadata": {
    "deletable": false,
    "editable": false,
    "tags": []
   },
   "source": [
    "To take the logaritm of a number using in the base-10 number system, one would use:\n",
    "```python\n",
    "np.log10(x)\n",
    "```\n",
    "as in the cell below."
   ]
  },
  {
   "cell_type": "code",
   "execution_count": null,
   "id": "67d951ec-371a-4498-8d78-e20b01169a2b",
   "metadata": {},
   "outputs": [],
   "source": [
    "np.log10( 100 ), np.log10( 10**2 )"
   ]
  },
  {
   "cell_type": "markdown",
   "id": "251c2e6e-68b3-4055-9c9d-3fb8dbcbc75e",
   "metadata": {
    "deletable": false,
    "editable": false,
    "tags": []
   },
   "source": [
    "Let's practice basic mathematical operations by trying a **simple math trick**.\n",
    "***"
   ]
  },
  {
   "cell_type": "markdown",
   "id": "a66f9c12-f53c-43aa-91b4-ca547b6639b5",
   "metadata": {
    "deletable": false,
    "editable": false,
    "tags": []
   },
   "source": [
    "**<span style=\"color:blue\">Question 5.1</span>** **<span style=\"color:red\">(1 mark)</span>**  \n",
    "Pick any 3-digit integer.  Write the number twice in a row and enter it into the cell below (eg. $372 \\to 372372$)."
   ]
  },
  {
   "cell_type": "markdown",
   "id": "41af1bff-635d-4795-b3e8-568517fa7fdc",
   "metadata": {
    "deletable": false,
    "editable": false,
    "tags": []
   },
   "source": [
    "**<span style=\"color:blue\">Answer 5.1</span>**  \n",
    "Replace the ... in the cell below with your answer.  For this answer, an integer should be entered and quotation marks are not needed.  \n",
    "*** Please do not change anything to the left of the equals sign. ***"
   ]
  },
  {
   "cell_type": "code",
   "execution_count": null,
   "id": "eefc8114-d9f1-4417-8eea-52f51b9ea048",
   "metadata": {
    "tags": []
   },
   "outputs": [],
   "source": [
    "x = ..."
   ]
  },
  {
   "cell_type": "code",
   "execution_count": null,
   "id": "c371a653",
   "metadata": {
    "deletable": false,
    "editable": false,
    "tags": []
   },
   "outputs": [],
   "source": [
    "PHYS121.graderCheck([x], ['x'], grader.check('Q5.1'))"
   ]
  },
  {
   "cell_type": "markdown",
   "id": "6e1f1ae2-5e6f-48a8-a144-07307ee84acb",
   "metadata": {},
   "source": [
    "***"
   ]
  },
  {
   "cell_type": "markdown",
   "id": "67bd6db8-78e1-4c9b-a127-661c164cf6d9",
   "metadata": {
    "deletable": false,
    "editable": false,
    "tags": []
   },
   "source": [
    "**<span style=\"color:blue\">Question 5.2</span>** **<span style=\"color:red\">(1 mark)</span>**  \n",
    "Take which ever number you picked from **Question 5.1** ($x$) and in the code cell below divide it first by 13, then divide by 11, and lastly divide by 7."
   ]
  },
  {
   "cell_type": "markdown",
   "id": "9c9db5ca-1b69-4a89-ab1d-86710c1cf01f",
   "metadata": {
    "deletable": false,
    "editable": false,
    "tags": []
   },
   "source": [
    "**<span style=\"color:blue\">Answer 5.2</span>**  \n",
    "Replace the ... with a mathematical expression that will, all at once, preform the entire operation described above.  \n",
    "*** Please do not change anything to the left of the equals sign. ***"
   ]
  },
  {
   "cell_type": "code",
   "execution_count": null,
   "id": "b87e8fb0-f329-4203-b3e9-79a11590fce1",
   "metadata": {
    "tags": []
   },
   "outputs": [],
   "source": [
    "y = ...\n",
    "\n",
    "# Print the result of the calculation.\n",
    "print(y)"
   ]
  },
  {
   "cell_type": "code",
   "execution_count": null,
   "id": "cb356778",
   "metadata": {
    "deletable": false,
    "editable": false,
    "tags": []
   },
   "outputs": [],
   "source": [
    "PHYS121.graderCheck([y], ['y'], grader.check('Q5.2'))"
   ]
  },
  {
   "cell_type": "markdown",
   "id": "fb83ba19-1cad-4880-a4a8-5e454cc9f863",
   "metadata": {
    "deletable": false,
    "editable": false,
    "tags": []
   },
   "source": [
    "# <div style=\"background-color:rgba(255, 204, 255, 0.5); text-align:center; vertical-align: middle; padding:40px 0; margin-top:30px\"><span style=\"color:rgba(102, 0, 204, 1);\">Part 6 - Calling Functions Contained in PHYS121.py (20 minutes)</span></div>\n",
    "\n",
    "**Part 6** is just for fun and won't be graded.  It is designed to show you how to call functions contained within the file PHYS121.py.  We will rely on many of the functions in PHYS121.py to help us analyze the experimental data that we collect through the term in the PHYS 121 lab.\n",
    "\n",
    "First, execute the cell below.  It calls a function contained in PHYS121.py called 'printDigits()'.  In order to call this function (or any other function in the file), we first have to import PHYS121.py use:\n",
    "```python\n",
    "import PHYS121\n",
    "```\n",
    "This import was already done in **Part 1** of the lab, so we don't have to do it again.  The 'printDigits()' function generates a random list of integers between 1 and 9.  The list of integers will contain between 25 and 35 entries.  If, for some reason, you don't like the set of integers that was generated, you can simply keeping executing the cell until you get a set of numbers that you like.  'printDigits()' will also calculate the product of the set of integers that you generated.   "
   ]
  },
  {
   "cell_type": "code",
   "execution_count": null,
   "id": "4792383f-787b-4b05-bd88-e76b305ec04d",
   "metadata": {},
   "outputs": [],
   "source": [
    "PHYS121.printDigits()"
   ]
  },
  {
   "cell_type": "markdown",
   "id": "f2597406-f825-499b-84ee-1c98b372db9d",
   "metadata": {
    "deletable": false,
    "editable": false,
    "tags": []
   },
   "source": [
    "***\n",
    "Next, take the product from the previous step and change any **non-zero** digit in that product to zero.  For example, if your product was $340202565$, you might decide to change the $4$ to zero such that your product gets changed to $300202565$.\n",
    "\n",
    "The next function that we'll make use of is called 'chase()'.  It is called in the same way as the previous function, except this time we need to pass an *arugument* or *parameter* to the function.  The argument is passed by entering your number as a string (i.e. between single or double quotes) between the brackets as in:\n",
    "```python\n",
    "num = '300202565'\n",
    "PHYS121.chase(num)\n",
    "```\n",
    "Call the 'chase()' function and pass the modified product (the product after changing one non-zero digit to zero) as the argument.  'chase()' should be able to tell you which digit was secretly changed to zero."
   ]
  },
  {
   "cell_type": "markdown",
   "id": "a61bf1e1-8909-4758-ad6d-00d595677d64",
   "metadata": {
    "deletable": false,
    "editable": false,
    "tags": []
   },
   "source": [
    "Replace ... with your modified product formatted as a string.  \n",
    "*** Please do not change anything to the left of the equals sign. ***"
   ]
  },
  {
   "cell_type": "code",
   "execution_count": null,
   "id": "300d4709-20bc-432d-aa28-338d861d7bbe",
   "metadata": {
    "tags": []
   },
   "outputs": [],
   "source": [
    "num = ...\n",
    "PHYS121.chase(num)"
   ]
  },
  {
   "cell_type": "code",
   "execution_count": null,
   "id": "e3351130",
   "metadata": {
    "deletable": false,
    "editable": false,
    "tags": []
   },
   "outputs": [],
   "source": [
    "PHYS121.graderCheck([num], ['num'], grader.check('Q6.1'))"
   ]
  },
  {
   "cell_type": "markdown",
   "id": "42308b2f-5ff6-4f3b-8af3-76b384708d45",
   "metadata": {
    "deletable": false,
    "editable": false,
    "tags": []
   },
   "source": [
    "# <div style=\"background-color:rgba(255, 204, 255, 0.5); text-align:center; vertical-align: middle; padding:40px 0; margin-top:30px\"><span style=\"color:rgba(102, 0, 204, 1);\">Part 7 - Statement of contributions (15 minutes)</span></div>"
   ]
  },
  {
   "cell_type": "markdown",
   "id": "56596633-4131-496a-9263-28c5cb16d458",
   "metadata": {
    "deletable": false,
    "editable": false,
    "tags": []
   },
   "source": [
    "Below, you will briefly summarize the contributions that you and your partner made when completely this lab.  Please ensure that both partners have a chance to engage in all types of lab activities (developing the experimental methods/data collection strategies, hands-on interaction with the apparatus/data collection, and data processing/analysis in the Jupyter notebook).  Note that statements of contributions are common in science.  The figure below shows one example taken from a 2021 paper published in the journal *Nature Physics*.\n",
    "\n",
    "<p>\n",
    "<center>\n",
    "<img src=\"https://raw.githubusercontent.com/UBC-Okanagan-Physics-Labs/PHYS-121-images/main/general/images/contributions.jpg\" alt=\"image info\" style=\"width: 60%; height: auto;\" /><br>\n",
    "<b>Figure: A sample statement of author contributions from a recent journal article.</b></center>\n",
    "</p>\n"
   ]
  },
  {
   "cell_type": "markdown",
   "id": "7359946f-c7ce-420e-98f5-50480f2f328f",
   "metadata": {
    "deletable": false,
    "editable": false,
    "tags": []
   },
   "source": [
    "<!-- BEGIN QUESTION -->\n",
    "\n",
    "***\n",
    "**<span style=\"color:blue\">Question 7.1(a):</span>**  \n",
    "\n",
    "Answer this question only if you worked with a partner to complete this lab.\n",
    "\n",
    "In two or three sentences describe the specific contributions of **Partner #1** to this lab.  For example, worked with the experimental apparatus to collect data for Part 1 of the lab, entered and processed the data in the Jupyter notebook for Part 2 of the lab, ...  "
   ]
  },
  {
   "cell_type": "markdown",
   "id": "63f786cc-5d64-43ef-9640-6e36ce98f168",
   "metadata": {
    "tags": []
   },
   "source": [
    "***\n",
    "**<span style=\"color:blue\">Answer 7.1(a):</span>**\n",
    "\n",
    "[//]: # (Please do not delete this comment or anything above it.  Anything below this comment can be deleted.)  \n",
    "\n",
    "Double click this cell and enter your text here.  Please start be entering the name and student number of **Partner #1**.  When done, hit 'Shift' + 'Enter' to execute the cell.  You may delete this text when entering your answer."
   ]
  },
  {
   "cell_type": "markdown",
   "id": "6e665c47-671f-4e04-9511-c1ca0f1b9ff9",
   "metadata": {
    "deletable": false,
    "editable": false,
    "tags": []
   },
   "source": [
    "<!-- END QUESTION -->\n",
    "\n",
    "<!-- BEGIN QUESTION -->\n",
    "\n",
    "***\n",
    "**<span style=\"color:blue\">Question 7.1(b):</span>**  \n",
    "\n",
    "Answer this question only if you worked with a partner to complete this lab.\n",
    "\n",
    "In two or three sentences describe the specific contributions of **Partner #2** to this lab.  "
   ]
  },
  {
   "cell_type": "markdown",
   "id": "06f3ce01-fe4a-4c06-87ea-446d59302da3",
   "metadata": {
    "tags": []
   },
   "source": [
    "***\n",
    "**<span style=\"color:blue\">Answer 7.1(b):</span>**\n",
    "\n",
    "[//]: # (Please do not delete this comment or anything above it.  Anything below this comment can be deleted.)  \n",
    "\n",
    "Double click this cell and enter your text here.  Please start be entering the name and student number of **Partner #2**.  When done, hit 'Shift' + 'Enter' to execute the cell.  You may delete this text when entering your answer. "
   ]
  },
  {
   "cell_type": "markdown",
   "id": "2722a2b6",
   "metadata": {
    "deletable": false,
    "editable": false,
    "tags": []
   },
   "source": [
    "<!-- END QUESTION -->\n",
    "\n",
    "# <div style=\"background-color:rgba(255, 204, 255, 0.5); text-align:center; vertical-align: middle; padding:40px 0; margin-top:30px\"><span style=\"color:rgba(102, 0, 204, 1);\">Part 8 - Feedback and Submission (15 minutes)</span></div>"
   ]
  },
  {
   "cell_type": "markdown",
   "id": "cd42e49c",
   "metadata": {
    "deletable": false,
    "editable": false,
    "tags": []
   },
   "source": [
    "<!-- BEGIN QUESTION -->\n",
    "\n",
    "***\n",
    "**<span style=\"color:blue\">Question 8.1:</span>**  \n",
    "\n",
    "We welcome your feedback on the PHYS 121 labs!  Please feel free to include any comments you have about this lab in the cell below.  Your comments will be taken into consideration when revising/improving the PHYS 121 labs.  You can suggest improvements, point out anything that was unclear, comment on the strengths and weaknesses of the lab, ...\n",
    "\n",
    "This question is optional and will have no impact on your lab grade."
   ]
  },
  {
   "cell_type": "markdown",
   "id": "8d6f3270",
   "metadata": {},
   "source": [
    "***\n",
    "**<span style=\"color:blue\">Answer 8.1:</span>**\n",
    "\n",
    "[//]: # (Please do not delete this comment or anything above it.  Anything below this comment can be deleted.)  \n",
    "\n",
    "Double click this cell and enter your text here.  When done, hit 'Shift' + 'Enter' to execute the cell.  You may delete this text when entering your answer. \n"
   ]
  },
  {
   "cell_type": "markdown",
   "id": "7e3775b6",
   "metadata": {
    "deletable": false,
    "editable": false,
    "tags": []
   },
   "source": [
    "<!-- END QUESTION -->\n",
    "\n",
    "***\n",
    "Once you've completed this notebook:\n",
    "- Save your work.\n",
    "- Run 'grader.check_all()' to confirm that you've completed all required tasks.\n",
    "- Run 'grader.export()' to generate a .zip file containing all of the materials that you will submit.\n",
    "- Download the generated .zip file using the link that appears **below** the ```grader.check_all(...)``` cell.\n",
    "- $\\Leftarrow$ Please do **NOT** download the zip file from the frame along the left-hand side of the screen. \n",
    "- Upload the .zip file to the PHYS 121 Canvas gradebook.\n",
    "- **Do NOT change the name of the .zip file.**\n",
    "- **Do NOT modify the contents of the .zip file.**\n",
    "\n",
    "Here is a <a href = \"https://raw.githubusercontent.com/UBC-Okanagan-Physics-Labs/PHYS-121-images/main/general/gifs/Submission.gif\">GIF</a> showing how these steps are completed.  Once your completed notebook has been uploaded to the Canvas gradebook, you're done!"
   ]
  },
  {
   "cell_type": "markdown",
   "id": "88ab566e",
   "metadata": {
    "deletable": false,
    "editable": false,
    "tags": []
   },
   "source": [
    "---\n",
    "\n",
    "To double-check your work, the cell below will rerun all of the autograder tests."
   ]
  },
  {
   "cell_type": "code",
   "execution_count": null,
   "id": "9176d687",
   "metadata": {
    "deletable": false,
    "editable": false,
    "tags": []
   },
   "outputs": [],
   "source": [
    "display(grader.check_all())\n",
    "PHYS121.saveMessage()"
   ]
  },
  {
   "cell_type": "markdown",
   "id": "81808979",
   "metadata": {
    "deletable": false,
    "editable": false,
    "tags": []
   },
   "source": [
    "## Submission\n",
    "\n",
    "Make sure you have run all cells in your notebook in order before running the cell below, so that all images/graphs appear in the output. The cell below will generate a zip file for you to submit. **Please save before exporting!**"
   ]
  },
  {
   "cell_type": "code",
   "execution_count": null,
   "id": "176fc3c7",
   "metadata": {
    "deletable": false,
    "editable": false,
    "tags": []
   },
   "outputs": [],
   "source": [
    "# Save your notebook first, then run this cell to export your submission.\n",
    "PHYS121.waitMessage()\n",
    "grader.export(files=[\"PHYS121_DataLogger.txt\"])\n",
    "PHYS121.proceedMessage()"
   ]
  },
  {
   "cell_type": "markdown",
   "id": "f2d34f70",
   "metadata": {
    "deletable": false,
    "editable": false,
    "tags": []
   },
   "source": [
    "# <div style=\"background-color:rgba(255, 204, 255, 0.5); text-align:center; vertical-align: middle; padding:40px 0; margin-top:30px\"><span style=\"color:rgba(102, 0, 204, 1);\">Part 9 - Playground (optional)</span></div>\n",
    "\n",
    "Feel free to add as many cells as you like below and use them as a playground for further independent investigations.  These cells won't be graded, so feel free to use them in any way you like.  "
   ]
  },
  {
   "cell_type": "code",
   "execution_count": null,
   "id": "ff728887",
   "metadata": {},
   "outputs": [],
   "source": [
    "# Here's an empty code cell that you can use."
   ]
  },
  {
   "cell_type": "code",
   "execution_count": null,
   "id": "7fcf5550",
   "metadata": {},
   "outputs": [],
   "source": [
    "# Here's another empty code cell that you can use."
   ]
  },
  {
   "cell_type": "code",
   "execution_count": null,
   "id": "922c01cc",
   "metadata": {},
   "outputs": [],
   "source": [
    "# Here's yet another empty code cell that you can use.\n",
    "# If you need more, you can add cells using the '+' icon in the menu bar at to the top of the screen."
   ]
  },
  {
   "cell_type": "markdown",
   "id": "299e295e",
   "metadata": {
    "deletable": false,
    "editable": false,
    "tags": []
   },
   "source": [
    "<img src=\"https://raw.githubusercontent.com/UBC-Okanagan-Physics-Labs/PHYS-121-images/main/general/images/ubc-logo-full.jpg\" width=\"500\"/>"
   ]
  },
  {
   "cell_type": "markdown",
   "id": "ac162dd1",
   "metadata": {},
   "source": [
    "Last update: January 8, 2025"
   ]
  }
 ],
 "metadata": {
  "kernelspec": {
   "display_name": "Python 3 (ipykernel)",
   "language": "python",
   "name": "python3"
  },
  "language_info": {
   "codemirror_mode": {
    "name": "ipython",
    "version": 3
   },
   "file_extension": ".py",
   "mimetype": "text/x-python",
   "name": "python",
   "nbconvert_exporter": "python",
   "pygments_lexer": "ipython3",
   "version": "3.11.10"
  },
  "otter": {
   "OK_FORMAT": true,
   "tests": {
    "Q4.1": {
     "name": "Q4.1",
     "points": null,
     "suites": [
      {
       "cases": [
        {
         "code": ">>> a4_1 != ...\nTrue",
         "failure_message": "Replace the ... with your answer.",
         "hidden": false,
         "locked": false,
         "points": 0
        },
        {
         "code": ">>> isinstance(a4_1, str)\nTrue",
         "failure_message": "a1 must be a string (i.e. surround your answer by either single or double quotes).",
         "hidden": false,
         "locked": false,
         "points": 0
        },
        {
         "code": ">>> test = True\n>>> if isinstance(a4_1, str):\n...     test = a4_1.lower() in ['a', 'b', 'c', 'd', 'e']\n>>> test\nTrue",
         "failure_message": "a1 must be one of 'a', 'b', 'c', 'd', or 'e'.",
         "hidden": false,
         "locked": false,
         "points": 0
        },
        {
         "code": ">>> PHYS121.get_hash(a4_1.lower()) == '4a8a08f09d37b73795649038408b5f33'\nTrue",
         "failure_message": "Try again.",
         "hidden": false,
         "locked": false,
         "points": 1
        }
       ],
       "scored": true,
       "setup": "",
       "teardown": "",
       "type": "doctest"
      }
     ]
    },
    "Q4.10": {
     "name": "Q4.10",
     "points": null,
     "suites": [
      {
       "cases": [
        {
         "code": ">>> a4_10 != ...\nTrue",
         "failure_message": "Replace the ... with your answer.",
         "hidden": false,
         "locked": false,
         "points": 0
        },
        {
         "code": ">>> isinstance(a4_10, str)\nTrue",
         "failure_message": "a10 must be a string (i.e. surround your answer by either single or double quotes).",
         "hidden": false,
         "locked": false,
         "points": 0
        },
        {
         "code": ">>> test = True\n>>> if isinstance(a4_10, str):\n...     test = a4_10.lower() in ['a', 'b', 't', 'f']\n>>> test\nTrue",
         "failure_message": "a10 must be one of 'a', 'b', 't', or 'f'.",
         "hidden": false,
         "locked": false,
         "points": 0
        },
        {
         "code": ">>> PHYS121.get_hash(a4_10.lower()) in ['92eb5ffee6ae2fec3ad71c777531578f', '8fa14cdd754f91cc6554c9e71929cce7']\nTrue",
         "failure_message": "Try again.",
         "hidden": false,
         "locked": false,
         "points": 1
        }
       ],
       "scored": true,
       "setup": "",
       "teardown": "",
       "type": "doctest"
      }
     ]
    },
    "Q4.11": {
     "name": "Q4.11",
     "points": null,
     "suites": [
      {
       "cases": [
        {
         "code": ">>> a4_11 != ...\nTrue",
         "failure_message": "Replace the ... with your answer.",
         "hidden": false,
         "locked": false,
         "points": 0
        },
        {
         "code": ">>> isinstance(a4_11, str)\nTrue",
         "failure_message": "a11 must be a string (i.e. surround your answer by either single or double quotes).",
         "hidden": false,
         "locked": false,
         "points": 0
        },
        {
         "code": ">>> test = True\n>>> if isinstance(a4_11, str):\n...     test = len(a4_11) == 3\n>>> test\nTrue",
         "failure_message": "a11 must be a string of exactly 3 characters.",
         "hidden": false,
         "locked": false,
         "points": 0
        },
        {
         "code": ">>> test = True\n>>> if isinstance(a4_11, str):\n...     test = a4_11 in ['L01', 'L02', 'L03', 'L04', 'L05', 'L06', 'L07', 'L08', 'L09', 'L10']\n>>> test\nTrue",
         "failure_message": "a11 must be one of 'L01', 'L02', ..., 'L10'.",
         "hidden": false,
         "locked": false,
         "points": 0
        }
       ],
       "scored": true,
       "setup": "",
       "teardown": "",
       "type": "doctest"
      }
     ]
    },
    "Q4.12": {
     "name": "Q4.12",
     "points": null,
     "suites": [
      {
       "cases": [
        {
         "code": ">>> TA_FIRST_name != ...\nTrue",
         "failure_message": "Replace the ... with your answer.",
         "hidden": false,
         "locked": false,
         "points": 0
        },
        {
         "code": ">>> isinstance(TA_FIRST_name, str)\nTrue",
         "failure_message": "TA_FIRST_name must be a string (i.e. surround your answer by either single or double quotes).",
         "hidden": false,
         "locked": false,
         "points": 0
        },
        {
         "code": ">>> TA_LAST_name != ...\nTrue",
         "failure_message": "Replace the ... with your answer.",
         "hidden": false,
         "locked": false,
         "points": 0
        },
        {
         "code": ">>> isinstance(TA_LAST_name, str)\nTrue",
         "failure_message": "TA_LAST_name must be a string (i.e. surround your answer by either single or double quotes).",
         "hidden": false,
         "locked": false,
         "points": 0
        }
       ],
       "scored": true,
       "setup": "",
       "teardown": "",
       "type": "doctest"
      }
     ]
    },
    "Q4.2": {
     "name": "Q4.2",
     "points": null,
     "suites": [
      {
       "cases": [
        {
         "code": ">>> a4_2 != ...\nTrue",
         "failure_message": "Replace the ... with your answer.",
         "hidden": false,
         "locked": false,
         "points": 0
        },
        {
         "code": ">>> isinstance(a4_2, str)\nTrue",
         "failure_message": "a2 must be a string (i.e. surround your answer by either single or double quotes).",
         "hidden": false,
         "locked": false,
         "points": 0
        },
        {
         "code": ">>> test = True\n>>> if isinstance(a4_2, str):\n...     test = a4_2.lower() in ['a', 'b', 't', 'f']\n>>> test\nTrue",
         "failure_message": "a2 must be one of 'a', 'b', 't', or 'f'.",
         "hidden": false,
         "locked": false,
         "points": 0
        },
        {
         "code": ">>> PHYS121.get_hash(a4_2.lower()) in ['92eb5ffee6ae2fec3ad71c777531578f', '8fa14cdd754f91cc6554c9e71929cce7']\nTrue",
         "failure_message": "Try again.",
         "hidden": false,
         "locked": false,
         "points": 1
        }
       ],
       "scored": true,
       "setup": "",
       "teardown": "",
       "type": "doctest"
      }
     ]
    },
    "Q4.3": {
     "name": "Q4.3",
     "points": null,
     "suites": [
      {
       "cases": [
        {
         "code": ">>> a4_3 != ...\nTrue",
         "failure_message": "Replace the ... with your answer.",
         "hidden": false,
         "locked": false,
         "points": 0
        },
        {
         "code": ">>> isinstance(a4_3, str)\nTrue",
         "failure_message": "a3 must be a string (i.e. surround your answer by either single or double quotes).",
         "hidden": false,
         "locked": false,
         "points": 0
        },
        {
         "code": ">>> test = True\n>>> if isinstance(a4_3, str):\n...     test = a4_3.lower() in ['a', 'b', 't', 'f']\n>>> test\nTrue",
         "failure_message": "a3 must be one of 'a', 'b', 't', or 'f'.",
         "hidden": false,
         "locked": false,
         "points": 0
        },
        {
         "code": ">>> PHYS121.get_hash(a4_3.lower()) in ['92eb5ffee6ae2fec3ad71c777531578f', '8fa14cdd754f91cc6554c9e71929cce7']\nTrue",
         "failure_message": "Try again.",
         "hidden": false,
         "locked": false,
         "points": 1
        }
       ],
       "scored": true,
       "setup": "",
       "teardown": "",
       "type": "doctest"
      }
     ]
    },
    "Q4.4": {
     "name": "Q4.4",
     "points": null,
     "suites": [
      {
       "cases": [
        {
         "code": ">>> a4_4 != ...\nTrue",
         "failure_message": "Replace the ... with your answer.",
         "hidden": false,
         "locked": false,
         "points": 0
        },
        {
         "code": ">>> isinstance(a4_4, str)\nTrue",
         "failure_message": "a4 must be a string (i.e. surround your answer by either single or double quotes).",
         "hidden": false,
         "locked": false,
         "points": 0
        },
        {
         "code": ">>> test = True\n>>> if isinstance(a4_4, str):\n...     test = a4_4.lower() in ['a', 'b', 'c', 'd', 'e']\n>>> test\nTrue",
         "failure_message": "a4 must be one of 'a', 'b', 'c', 'd', or 'e'.",
         "hidden": false,
         "locked": false,
         "points": 0
        },
        {
         "code": ">>> PHYS121.get_hash(a4_4.lower()) == '4a8a08f09d37b73795649038408b5f33'\nTrue",
         "failure_message": "Try again.",
         "hidden": false,
         "locked": false,
         "points": 1
        }
       ],
       "scored": true,
       "setup": "",
       "teardown": "",
       "type": "doctest"
      }
     ]
    },
    "Q4.5": {
     "name": "Q4.5",
     "points": null,
     "suites": [
      {
       "cases": [
        {
         "code": ">>> a4_5 != ...\nTrue",
         "failure_message": "Replace the ... with your answer.",
         "hidden": false,
         "locked": false,
         "points": 0
        },
        {
         "code": ">>> isinstance(a4_5, str)\nTrue",
         "failure_message": "a5 must be a string (i.e. surround your answer by either single or double quotes).",
         "hidden": false,
         "locked": false,
         "points": 0
        },
        {
         "code": ">>> test = True\n>>> if isinstance(a4_5, str):\n...     test = a4_5.lower() in ['a', 'b', 'c', 'd', 'e']\n>>> test\nTrue",
         "failure_message": "a5 must be one of 'a', 'b', 'c', 'd', or 'e'.",
         "hidden": false,
         "locked": false,
         "points": 0
        },
        {
         "code": ">>> PHYS121.get_hash(a4_5.lower()) == '8277e0910d750195b448797616e091ad'\nTrue",
         "failure_message": "Try again.",
         "hidden": false,
         "locked": false,
         "points": 1
        }
       ],
       "scored": true,
       "setup": "",
       "teardown": "",
       "type": "doctest"
      }
     ]
    },
    "Q4.6": {
     "name": "Q4.6",
     "points": null,
     "suites": [
      {
       "cases": [
        {
         "code": ">>> a4_6 != ...\nTrue",
         "failure_message": "Replace the ... with your answer.",
         "hidden": false,
         "locked": false,
         "points": 0
        },
        {
         "code": ">>> isinstance(a4_6, str)\nTrue",
         "failure_message": "a6 must be a string (i.e. surround your answer by either single or double quotes).",
         "hidden": false,
         "locked": false,
         "points": 0
        },
        {
         "code": ">>> test = True\n>>> if isinstance(a4_6, str):\n...     test = a4_6.lower() in ['a', 'b', 'c', 'd', 'e']\n>>> test\nTrue",
         "failure_message": "a6 must be one of 'a', 'b', 'c', 'd', or 'e'.",
         "hidden": false,
         "locked": false,
         "points": 0
        },
        {
         "code": ">>> PHYS121.get_hash(a4_6.lower()) == 'e1671797c52e15f763380b45e841ec32'\nTrue",
         "failure_message": "Try again.",
         "hidden": false,
         "locked": false,
         "points": 1
        }
       ],
       "scored": true,
       "setup": "",
       "teardown": "",
       "type": "doctest"
      }
     ]
    },
    "Q4.7": {
     "name": "Q4.7",
     "points": null,
     "suites": [
      {
       "cases": [
        {
         "code": ">>> a4_7 != ...\nTrue",
         "failure_message": "Replace the ... with your answer.",
         "hidden": false,
         "locked": false,
         "points": 0
        },
        {
         "code": ">>> isinstance(a4_7, str)\nTrue",
         "failure_message": "a7 must be a string (i.e. surround your answer by either single or double quotes).",
         "hidden": false,
         "locked": false,
         "points": 0
        },
        {
         "code": ">>> test = True\n>>> if isinstance(a4_7, str):\n...     test = a4_7.lower() in ['a', 'b', 'c', 'd', 'e']\n>>> test\nTrue",
         "failure_message": "a7 must be one of 'a', 'b', 'c', 'd', or 'e'.",
         "hidden": false,
         "locked": false,
         "points": 0
        },
        {
         "code": ">>> PHYS121.get_hash(a4_7.lower()) == '4a8a08f09d37b73795649038408b5f33'\nTrue",
         "failure_message": "Try again.",
         "hidden": false,
         "locked": false,
         "points": 1
        }
       ],
       "scored": true,
       "setup": "",
       "teardown": "",
       "type": "doctest"
      }
     ]
    },
    "Q4.8": {
     "name": "Q4.8",
     "points": null,
     "suites": [
      {
       "cases": [
        {
         "code": ">>> a4_8 != ...\nTrue",
         "failure_message": "Replace the ... with your answer.",
         "hidden": false,
         "locked": false,
         "points": 0
        },
        {
         "code": ">>> isinstance(a4_8, str)\nTrue",
         "failure_message": "a8 must be a string (i.e. surround your answer by either single or double quotes).",
         "hidden": false,
         "locked": false,
         "points": 0
        },
        {
         "code": ">>> test = True\n>>> if isinstance(a4_8, str):\n...     test = a4_8.lower() in ['a', 'b', 't', 'f']\n>>> test\nTrue",
         "failure_message": "a8 must be one of 'a', 'b', 't', or 'f'.",
         "hidden": false,
         "locked": false,
         "points": 0
        },
        {
         "code": ">>> PHYS121.get_hash(a4_8.lower()) in ['0cc175b9c0f1b6a831c399e269772661', 'e358efa489f58062f10dd7316b65649e']\nTrue",
         "failure_message": "Try again.",
         "hidden": false,
         "locked": false,
         "points": 1
        }
       ],
       "scored": true,
       "setup": "",
       "teardown": "",
       "type": "doctest"
      }
     ]
    },
    "Q4.9": {
     "name": "Q4.9",
     "points": null,
     "suites": [
      {
       "cases": [
        {
         "code": ">>> a4_9 != ...\nTrue",
         "failure_message": "Replace the ... with your answer.",
         "hidden": false,
         "locked": false,
         "points": 0
        },
        {
         "code": ">>> isinstance(a4_9, str)\nTrue",
         "failure_message": "a9 must be a string (i.e. surround your answer by either single or double quotes).",
         "hidden": false,
         "locked": false,
         "points": 0
        },
        {
         "code": ">>> test = True\n>>> if isinstance(a4_9, str):\n...     test = a4_9.lower() in ['a', 'b', 't', 'f']\n>>> test\nTrue",
         "failure_message": "a9 must be one of 'a', 'b', 't', or 'f'.",
         "hidden": false,
         "locked": false,
         "points": 0
        },
        {
         "code": ">>> PHYS121.get_hash(a4_9.lower()) in ['0cc175b9c0f1b6a831c399e269772661', 'e358efa489f58062f10dd7316b65649e']\nTrue",
         "failure_message": "Try again.",
         "hidden": false,
         "locked": false,
         "points": 1
        }
       ],
       "scored": true,
       "setup": "",
       "teardown": "",
       "type": "doctest"
      }
     ]
    },
    "Q5.1": {
     "name": "Q5.1",
     "points": null,
     "suites": [
      {
       "cases": [
        {
         "code": ">>> x != ...\nTrue",
         "failure_message": "Replace the ... with your answer.",
         "hidden": false,
         "locked": false,
         "points": 0
        },
        {
         "code": ">>> isinstance(x, int)\nTrue",
         "failure_message": "x must be an integer.",
         "hidden": false,
         "locked": false,
         "points": 0
        },
        {
         "code": ">>> test = True\n>>> if isinstance(x, int):\n...     test = len(str(x)) == 6\n>>> test\nTrue",
         "failure_message": "x must contain exactly 6 digits.",
         "hidden": false,
         "locked": false,
         "points": 0
        },
        {
         "code": ">>> test = True\n>>> if isinstance(x, int):\n...     test = str(x)[0:3] == str(x)[3:6]\n>>> test\nTrue",
         "failure_message": "The first 3 digits of x must be identical to the last 3 digits.",
         "hidden": false,
         "locked": false,
         "points": 1
        }
       ],
       "scored": true,
       "setup": "",
       "teardown": "",
       "type": "doctest"
      }
     ]
    },
    "Q5.2": {
     "name": "Q5.2",
     "points": null,
     "suites": [
      {
       "cases": [
        {
         "code": ">>> y != ...\nTrue",
         "failure_message": "Replace the ... with your answer.",
         "hidden": false,
         "locked": false,
         "points": 0
        },
        {
         "code": ">>> isinstance(y, int) or isinstance(y, float)\nTrue",
         "failure_message": "y must be an integer or a decimal number.",
         "hidden": false,
         "locked": false,
         "points": 0
        },
        {
         "code": ">>> test = True\n>>> if isinstance(y, int) or isinstance(y, float):\n...     test = int(str(x)[0:3]) == int(y)\n>>> test\nTrue",
         "failure_message": "Try again.",
         "hidden": false,
         "locked": false,
         "points": 1
        }
       ],
       "scored": true,
       "setup": "",
       "teardown": "",
       "type": "doctest"
      }
     ]
    },
    "Q6.1": {
     "name": "Q6.1",
     "points": null,
     "suites": [
      {
       "cases": [
        {
         "code": ">>> num != ...\nTrue",
         "failure_message": "Replace the ... with your answer.",
         "hidden": false,
         "locked": false,
         "points": 0
        },
        {
         "code": ">>> isinstance(num, str)\nTrue",
         "failure_message": "num must be a string (i.e. surrounded by single or double quotes).",
         "hidden": false,
         "locked": false,
         "points": 0
        }
       ],
       "scored": true,
       "setup": "",
       "teardown": "",
       "type": "doctest"
      }
     ]
    },
    "name_and_student_number": {
     "name": "name_and_student_number",
     "points": null,
     "suites": [
      {
       "cases": [
        {
         "code": ">>> isinstance(last_name_1, str)\nTrue",
         "failure_message": "last_name_1 must be a string (i.e. surround your answer by either single or double quotes).",
         "hidden": false,
         "locked": false,
         "points": 0
        },
        {
         "code": ">>> isinstance(first_name_1, str)\nTrue",
         "failure_message": "first_name_1 must be a string (i.e. surround your answer by either single or double quotes).",
         "hidden": false,
         "locked": false,
         "points": 0
        },
        {
         "code": ">>> isinstance(student_number_1, str)\nTrue",
         "failure_message": "student_number_1 must be a string (i.e. surround your answer by either single or double quotes).",
         "hidden": false,
         "locked": false,
         "points": 0
        },
        {
         "code": ">>> test = True\n>>> if isinstance(student_number_1, str):\n...     test = len(student_number_1) == 8\n>>> test\nTrue",
         "failure_message": "student_number_1 must be a string of exactly 8 characters.",
         "hidden": false,
         "locked": false,
         "points": 0
        },
        {
         "code": ">>> test = True\n>>> if isinstance(student_number_1, str):\n...     test = student_number_1.isdigit()\n>>> test\nTrue",
         "failure_message": "student_number_1 must contain only interger digits (0, 1, 2, 3, ..., 9)",
         "hidden": false,
         "locked": false,
         "points": 0.5
        },
        {
         "code": ">>> isinstance(last_name_2, str) or last_name_2 == ...\nTrue",
         "failure_message": "last_name_2 must be a string (i.e. surround your answer by either single or double quotes).",
         "hidden": false,
         "locked": false,
         "points": 0
        },
        {
         "code": ">>> isinstance(first_name_2, str) or first_name_2 == ...\nTrue",
         "failure_message": "first_name_2 must be a string (i.e. surround your answer by either single or double quotes).",
         "hidden": false,
         "locked": false,
         "points": 0
        },
        {
         "code": ">>> isinstance(student_number_2, str) or student_number_2 == ...\nTrue",
         "failure_message": "student_number_2 must be a string (i.e. surround your answer by either single or double quotes).",
         "hidden": false,
         "locked": false,
         "points": 0
        },
        {
         "code": ">>> test = True\n>>> if isinstance(student_number_2, str):\n...     test = len(student_number_2) == 8\n>>> test\nTrue",
         "failure_message": "student_number_2 must be a string of exactly 8 characters or be left as ...",
         "hidden": false,
         "locked": false,
         "points": 0
        },
        {
         "code": ">>> test = True\n>>> if isinstance(student_number_2, str):\n...     test = student_number_2.isdigit()\n>>> test\nTrue",
         "failure_message": "student_number_2 must contain only interger digits (0, 1, 2, 3, ..., 9) or be left as ...",
         "hidden": false,
         "locked": false,
         "points": 0.5
        }
       ],
       "scored": true,
       "setup": "",
       "teardown": "",
       "type": "doctest"
      }
     ]
    },
    "q0.1": {
     "name": "q0.1",
     "points": null,
     "suites": [
      {
       "cases": [
        {
         "code": ">>> 'PHYS121' in sys.modules and 'otter' in sys.modules and ('numpy' in sys.modules)\nTrue",
         "failure_message": "Make sure you execute the cells containing \"import PHYS121\" and \"import otter\" as well as the cell beneath the heading \"Importing Packages/Modules\".",
         "hidden": false,
         "locked": false,
         "points": 0
        }
       ],
       "scored": true,
       "setup": "",
       "teardown": "",
       "type": "doctest"
      }
     ]
    }
   }
  },
  "vscode": {
   "interpreter": {
    "hash": "a1ce1a55934a23fd40442cf0356ecbdd657c4299d40a67360326f76004edb0e0"
   }
  }
 },
 "nbformat": 4,
 "nbformat_minor": 5
}
